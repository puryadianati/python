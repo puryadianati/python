{
 "cells": [
  {
   "cell_type": "markdown",
   "id": "51300b7c",
   "metadata": {},
   "source": [
    "complixity  time space \n",
    "\n",
    "Big o notation \n",
    "\n",
    "\n"
   ]
  },
  {
   "cell_type": "code",
   "execution_count": 7,
   "id": "17fdb791",
   "metadata": {},
   "outputs": [],
   "source": [
    "nums=[22,40,30,49,30]\n",
    "def index(list,num):\n",
    "    for i in list :\n",
    "        if i == num:\n",
    "            return list.index(i)"
   ]
  },
  {
   "cell_type": "code",
   "execution_count": 8,
   "id": "5f5418ea",
   "metadata": {},
   "outputs": [
    {
     "data": {
      "text/plain": [
       "2"
      ]
     },
     "execution_count": 8,
     "metadata": {},
     "output_type": "execute_result"
    }
   ],
   "source": [
    "index(nums,30)"
   ]
  },
  {
   "cell_type": "markdown",
   "id": "e8dd0dca",
   "metadata": {},
   "source": [
    "the alghorythm above is correct for small data for big data is not suitable"
   ]
  },
  {
   "cell_type": "markdown",
   "id": "4b8f6de7",
   "metadata": {},
   "source": [
    "\n",
    "constant time o(1)\n",
    "we have kind of o(n)\n",
    "o=operattion of works  and num in () is showing number of data entire\n",
    "\n",
    "constant time means is not important number of data and not efect in our work"
   ]
  },
  {
   "cell_type": "code",
   "execution_count": 10,
   "id": "986906d3",
   "metadata": {},
   "outputs": [],
   "source": [
    "nums =[3,4,5,6,6,777,7,7]\n",
    "\n",
    "def show(list):\n",
    "    if list[0] % 2 == 0:\n",
    "        return \"even\"\n",
    "    return \"odd\""
   ]
  },
  {
   "cell_type": "code",
   "execution_count": 11,
   "id": "74536576",
   "metadata": {},
   "outputs": [
    {
     "name": "stdout",
     "output_type": "stream",
     "text": [
      "odd\n"
     ]
    }
   ],
   "source": [
    "print(show(nums))"
   ]
  },
  {
   "cell_type": "markdown",
   "id": "26680553",
   "metadata": {},
   "source": [
    "above alghorythm o(1) is not effected number of data in time operation"
   ]
  },
  {
   "cell_type": "markdown",
   "id": "a7d5b214",
   "metadata": {},
   "source": [
    "LOGARIHM TIME o(log n)\n",
    "binary search : \n",
    "\n",
    "time is half every opeation\n",
    "\n",
    "\n",
    "linear time o(n)\n",
    "هرچه المان های ما زیاد باشه اوبراشن های ما زیاد میشه \n",
    "مثلا یه لیست نا مرتب داشته باشیم و بگن بزرگترین اعداد را بیدا کنیم چاره ای جز از اول شروع کنیم نداریم "
   ]
  },
  {
   "cell_type": "code",
   "execution_count": null,
   "id": "8062b667",
   "metadata": {},
   "outputs": [],
   "source": []
  }
 ],
 "metadata": {
  "kernelspec": {
   "display_name": "Python 3 (ipykernel)",
   "language": "python",
   "name": "python3"
  },
  "language_info": {
   "codemirror_mode": {
    "name": "ipython",
    "version": 3
   },
   "file_extension": ".py",
   "mimetype": "text/x-python",
   "name": "python",
   "nbconvert_exporter": "python",
   "pygments_lexer": "ipython3",
   "version": "3.10.6"
  }
 },
 "nbformat": 4,
 "nbformat_minor": 5
}
