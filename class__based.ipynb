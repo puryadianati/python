{
 "cells": [
  {
   "cell_type": "code",
   "execution_count": 6,
   "id": "b59daf21",
   "metadata": {},
   "outputs": [
    {
     "name": "stdout",
     "output_type": "stream",
     "text": [
      "this is  hi\n"
     ]
    }
   ],
   "source": [
    "class person :\n",
    "    def __init__(self,name,age,gender):\n",
    "        self.name=name\n",
    "        self.age=age\n",
    "        self.gender=gender\n",
    "        \n",
    "    def personinfo(self):\n",
    "        print(\"this is  {}\".format(self.name))\n",
    "        \n",
    "class student(person):\n",
    "    def __init__(self,name,age,gender,studentid,fees):\n",
    "        person.__init__(self,name,age)\n",
    "        self.studentid=studentid\n",
    "        self.fees=fees\n",
    "        \n",
    "    def studentinfo(self):\n",
    "        print('studend id is '.format(self.studenid))\n",
    "        \n",
    "        \n",
    "        \n",
    "x=student()\n",
    "\n",
    "        \n"
   ]
  },
  {
   "cell_type": "code",
   "execution_count": null,
   "id": "c41de65c",
   "metadata": {},
   "outputs": [],
   "source": []
  }
 ],
 "metadata": {
  "kernelspec": {
   "display_name": "Python 3 (ipykernel)",
   "language": "python",
   "name": "python3"
  },
  "language_info": {
   "codemirror_mode": {
    "name": "ipython",
    "version": 3
   },
   "file_extension": ".py",
   "mimetype": "text/x-python",
   "name": "python",
   "nbconvert_exporter": "python",
   "pygments_lexer": "ipython3",
   "version": "3.10.6"
  }
 },
 "nbformat": 4,
 "nbformat_minor": 5
}
