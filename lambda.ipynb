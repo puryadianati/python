{
 "cells": [
  {
   "cell_type": "code",
   "execution_count": 13,
   "id": "6c380959",
   "metadata": {},
   "outputs": [],
   "source": [
    "produc=(lambda *args : sum(args))"
   ]
  },
  {
   "cell_type": "code",
   "execution_count": 14,
   "id": "49673ae1",
   "metadata": {},
   "outputs": [
    {
     "data": {
      "text/plain": [
       "5"
      ]
     },
     "execution_count": 14,
     "metadata": {},
     "output_type": "execute_result"
    }
   ],
   "source": [
    "produc(2,3)"
   ]
  },
  {
   "cell_type": "code",
   "execution_count": 11,
   "id": "7b40a25f",
   "metadata": {},
   "outputs": [],
   "source": [
    "res = (lambda *args: sum(args))"
   ]
  },
  {
   "cell_type": "code",
   "execution_count": 12,
   "id": "ca07a11c",
   "metadata": {},
   "outputs": [
    {
     "data": {
      "text/plain": [
       "(30, 100)"
      ]
     },
     "execution_count": 12,
     "metadata": {},
     "output_type": "execute_result"
    }
   ],
   "source": [
    "res(10,20) , res(10,20,30,40)"
   ]
  },
  {
   "cell_type": "code",
   "execution_count": 18,
   "id": "467504d6",
   "metadata": {},
   "outputs": [],
   "source": [
    "res=(lambda **kwargs : sum(kwargs.values()))"
   ]
  },
  {
   "cell_type": "code",
   "execution_count": 19,
   "id": "f4635bed",
   "metadata": {},
   "outputs": [
    {
     "data": {
      "text/plain": [
       "60"
      ]
     },
     "execution_count": 19,
     "metadata": {},
     "output_type": "execute_result"
    }
   ],
   "source": [
    "res(a = 10 , b= 20 , c = 30)"
   ]
  },
  {
   "cell_type": "code",
   "execution_count": 26,
   "id": "067a6039",
   "metadata": {},
   "outputs": [],
   "source": [
    "price=(lambda a,b : a+b)"
   ]
  },
  {
   "cell_type": "code",
   "execution_count": 27,
   "id": "07f6f94d",
   "metadata": {},
   "outputs": [
    {
     "data": {
      "text/plain": [
       "7"
      ]
     },
     "execution_count": 27,
     "metadata": {},
     "output_type": "execute_result"
    }
   ],
   "source": [
    "price(3,4)"
   ]
  },
  {
   "cell_type": "code",
   "execution_count": 28,
   "id": "ad226934",
   "metadata": {},
   "outputs": [],
   "source": [
    "def product(nums):\n",
    "    total = 1\n",
    "    for i in nums:\n",
    "         total *= i\n",
    "    return total"
   ]
  },
  {
   "cell_type": "code",
   "execution_count": 65,
   "id": "23fa99cc",
   "metadata": {},
   "outputs": [
    {
     "data": {
      "text/plain": [
       "6000"
      ]
     },
     "execution_count": 65,
     "metadata": {},
     "output_type": "execute_result"
    }
   ],
   "source": [
    "product([10,20,30])"
   ]
  },
  {
   "cell_type": "code",
   "execution_count": 39,
   "id": "4145e020",
   "metadata": {},
   "outputs": [
    {
     "data": {
      "text/plain": [
       "10"
      ]
     },
     "execution_count": 39,
     "metadata": {},
     "output_type": "execute_result"
    }
   ],
   "source": [
    "# User defined function to find product of numbers\n",
    "def product(nums):\n",
    "    total = 1\n",
    "    for i in nums:\n",
    "        total *= i\n",
    "    return total\n",
    "# This lambda function can take any number of arguments and return thier product.\n",
    "res1 = (lambda **kwargs: product(kwargs.values()))\n",
    "res1(a = 10 )"
   ]
  },
  {
   "cell_type": "code",
   "execution_count": 52,
   "id": "e29c0940",
   "metadata": {},
   "outputs": [
    {
     "data": {
      "text/plain": [
       "24000"
      ]
     },
     "execution_count": 52,
     "metadata": {},
     "output_type": "execute_result"
    }
   ],
   "source": [
    "product([20,30,40])"
   ]
  },
  {
   "cell_type": "code",
   "execution_count": 47,
   "id": "b251e6e9",
   "metadata": {},
   "outputs": [],
   "source": [
    "res=(lambda **kwargs : print(kwargs.values()))"
   ]
  },
  {
   "cell_type": "code",
   "execution_count": 48,
   "id": "e403442b",
   "metadata": {},
   "outputs": [
    {
     "name": "stdout",
     "output_type": "stream",
     "text": [
      "dict_values([2, 10])\n"
     ]
    }
   ],
   "source": [
    "res(a=2,b=10)"
   ]
  },
  {
   "cell_type": "code",
   "execution_count": 53,
   "id": "9d245c5e",
   "metadata": {},
   "outputs": [
    {
     "name": "stdout",
     "output_type": "stream",
     "text": [
      "12\n"
     ]
    }
   ],
   "source": [
    "def function(n):\n",
    "    return lambda a : a +n\n",
    "\n",
    "add10=function(10)\n",
    "print(add10(2))"
   ]
  },
  {
   "cell_type": "code",
   "execution_count": 59,
   "id": "fbe3bd49",
   "metadata": {},
   "outputs": [],
   "source": [
    "list1=[2,4,5,20]\n",
    "odd_num=list(filter(lambda a : a%2 == 1 ,list1))"
   ]
  },
  {
   "cell_type": "code",
   "execution_count": 60,
   "id": "c6aa215e",
   "metadata": {},
   "outputs": [
    {
     "data": {
      "text/plain": [
       "[5]"
      ]
     },
     "execution_count": 60,
     "metadata": {},
     "output_type": "execute_result"
    }
   ],
   "source": [
    "odd_num"
   ]
  },
  {
   "cell_type": "code",
   "execution_count": 63,
   "id": "36feb216",
   "metadata": {},
   "outputs": [],
   "source": [
    "def odd(n):\n",
    "    if n % 2 == 1 : return True\n",
    "    else : return False \n",
    "    \n",
    "odd_num= list(filter(odd , list1))"
   ]
  },
  {
   "cell_type": "code",
   "execution_count": 64,
   "id": "5cd7752a",
   "metadata": {},
   "outputs": [
    {
     "data": {
      "text/plain": [
       "[5]"
      ]
     },
     "execution_count": 64,
     "metadata": {},
     "output_type": "execute_result"
    }
   ],
   "source": [
    "odd_num"
   ]
  },
  {
   "cell_type": "code",
   "execution_count": 81,
   "id": "c7a7c6a2",
   "metadata": {},
   "outputs": [
    {
     "ename": "TypeError",
     "evalue": "'list' object is not callable",
     "output_type": "error",
     "traceback": [
      "\u001b[0;31m---------------------------------------------------------------------------\u001b[0m",
      "\u001b[0;31mTypeError\u001b[0m                                 Traceback (most recent call last)",
      "Cell \u001b[0;32mIn [81], line 3\u001b[0m\n\u001b[1;32m      1\u001b[0m \u001b[38;5;28;01mdef\u001b[39;00m \u001b[38;5;21mtwice\u001b[39m(n):\n\u001b[1;32m      2\u001b[0m     \u001b[38;5;28;01mreturn\u001b[39;00m n\u001b[38;5;241m*\u001b[39m\u001b[38;5;241m2\u001b[39m\n\u001b[0;32m----> 3\u001b[0m res\u001b[38;5;241m=\u001b[39m\u001b[38;5;28;43mlist\u001b[39;49m\u001b[43m(\u001b[49m\u001b[38;5;28;43mmap\u001b[39;49m\u001b[43m(\u001b[49m\u001b[43mtwice\u001b[49m\u001b[43m \u001b[49m\u001b[43m,\u001b[49m\u001b[43m \u001b[49m\u001b[43m[\u001b[49m\u001b[38;5;241;43m2\u001b[39;49m\u001b[43m]\u001b[49m\u001b[43m)\u001b[49m\u001b[43m)\u001b[49m\n",
      "\u001b[0;31mTypeError\u001b[0m: 'list' object is not callable"
     ]
    }
   ],
   "source": [
    "def twice(n):\n",
    "    return n*2\n",
    "res=list(map(twice , [2]))"
   ]
  },
  {
   "cell_type": "code",
   "execution_count": 69,
   "id": "a5a38701",
   "metadata": {},
   "outputs": [
    {
     "data": {
      "text/plain": [
       "[4]"
      ]
     },
     "execution_count": 69,
     "metadata": {},
     "output_type": "execute_result"
    }
   ],
   "source": [
    "res"
   ]
  },
  {
   "cell_type": "code",
   "execution_count": 1,
   "id": "5013d14d",
   "metadata": {},
   "outputs": [
    {
     "data": {
      "text/plain": [
       "27"
      ]
     },
     "execution_count": 1,
     "metadata": {},
     "output_type": "execute_result"
    }
   ],
   "source": [
    "list2=[3,4,5,7,8]\n",
    "from functools import reduce\n",
    "\n",
    "sum_all=reduce(lambda a,b : a+b,list)\n",
    "sum_all"
   ]
  },
  {
   "cell_type": "code",
   "execution_count": 6,
   "id": "590a6947",
   "metadata": {},
   "outputs": [],
   "source": [
    "doubles = list(map(lambda n:n*2,list2))"
   ]
  },
  {
   "cell_type": "code",
   "execution_count": 4,
   "id": "ca9e9b73",
   "metadata": {},
   "outputs": [
    {
     "data": {
      "text/plain": [
       "[6, 8, 10, 14, 16]"
      ]
     },
     "execution_count": 4,
     "metadata": {},
     "output_type": "execute_result"
    }
   ],
   "source": [
    "doubles"
   ]
  },
  {
   "cell_type": "code",
   "execution_count": 8,
   "id": "560015b0",
   "metadata": {},
   "outputs": [
    {
     "data": {
      "text/plain": [
       "[2, 4, 20]"
      ]
     },
     "execution_count": 8,
     "metadata": {},
     "output_type": "execute_result"
    }
   ],
   "source": [
    "def num(n):\n",
    "    if n % 2==0 : return True\n",
    "    else : return False \n",
    "    \n",
    "list2=[2,4,7,65,20]\n",
    "x=list(filter(num , list2))\n",
    "x"
   ]
  },
  {
   "cell_type": "code",
   "execution_count": 10,
   "id": "ff814a17",
   "metadata": {},
   "outputs": [
    {
     "data": {
      "text/plain": [
       "65"
      ]
     },
     "execution_count": 10,
     "metadata": {},
     "output_type": "execute_result"
    }
   ],
   "source": [
    "list3=[3,6,65,53,35]\n",
    "\n",
    "from functools import reduce\n",
    "x=reduce(lambda a, b : a if a>b else b , list3)\n",
    "x"
   ]
  },
  {
   "cell_type": "code",
   "execution_count": 12,
   "id": "9058c02f",
   "metadata": {},
   "outputs": [
    {
     "data": {
      "text/plain": [
       "65"
      ]
     },
     "execution_count": 12,
     "metadata": {},
     "output_type": "execute_result"
    }
   ],
   "source": [
    "def max_num(a,b):\n",
    "    return a if a>b else b\n",
    "\n",
    "x=reduce(max_num , list3)\n",
    "x"
   ]
  }
 ],
 "metadata": {
  "kernelspec": {
   "display_name": "Python 3 (ipykernel)",
   "language": "python",
   "name": "python3"
  },
  "language_info": {
   "codemirror_mode": {
    "name": "ipython",
    "version": 3
   },
   "file_extension": ".py",
   "mimetype": "text/x-python",
   "name": "python",
   "nbconvert_exporter": "python",
   "pygments_lexer": "ipython3",
   "version": "3.10.6"
  }
 },
 "nbformat": 4,
 "nbformat_minor": 5
}
