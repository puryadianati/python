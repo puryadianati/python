{
 "cells": [
  {
   "cell_type": "code",
   "execution_count": 10,
   "id": "281dd278",
   "metadata": {},
   "outputs": [],
   "source": [
    "str=\"fdfdf \\\"dsds ds d\\\"d d\""
   ]
  },
  {
   "cell_type": "code",
   "execution_count": 5,
   "id": "447074a2",
   "metadata": {},
   "outputs": [
    {
     "name": "stdout",
     "output_type": "stream",
     "text": [
      "fdfdf \"dsds ds d\" \n"
     ]
    }
   ],
   "source": [
    "print(str)"
   ]
  },
  {
   "cell_type": "code",
   "execution_count": 11,
   "id": "124b7532",
   "metadata": {},
   "outputs": [
    {
     "name": "stdout",
     "output_type": "stream",
     "text": [
      "(0, 'a')\n",
      "(1, 2)\n",
      "(2, 'ass')\n"
     ]
    }
   ],
   "source": [
    "list=['a',2,'ass']\n",
    "for i in enumerate(list):\n",
    "    print(i)"
   ]
  },
  {
   "cell_type": "code",
   "execution_count": 12,
   "id": "ec2f4853",
   "metadata": {},
   "outputs": [
    {
     "name": "stdout",
     "output_type": "stream",
     "text": [
      "<generator object <genexpr> at 0x7f6fcd4825e0>\n"
     ]
    }
   ],
   "source": [
    "print(\"{}is string\".format(i) for i in range(0,7))"
   ]
  },
  {
   "cell_type": "code",
   "execution_count": 13,
   "id": "6160e66a",
   "metadata": {},
   "outputs": [],
   "source": [
    "my_list=[i for i in range(0,40)  if i%2==0 ]"
   ]
  },
  {
   "cell_type": "code",
   "execution_count": 14,
   "id": "8334036f",
   "metadata": {},
   "outputs": [
    {
     "data": {
      "text/plain": [
       "[0, 2, 4, 6, 8, 10, 12, 14, 16, 18, 20, 22, 24, 26, 28, 30, 32, 34, 36, 38]"
      ]
     },
     "execution_count": 14,
     "metadata": {},
     "output_type": "execute_result"
    }
   ],
   "source": [
    "my_list"
   ]
  },
  {
   "cell_type": "code",
   "execution_count": null,
   "id": "18c1ddc4",
   "metadata": {},
   "outputs": [],
   "source": []
  }
 ],
 "metadata": {
  "kernelspec": {
   "display_name": "Python 3 (ipykernel)",
   "language": "python",
   "name": "python3"
  },
  "language_info": {
   "codemirror_mode": {
    "name": "ipython",
    "version": 3
   },
   "file_extension": ".py",
   "mimetype": "text/x-python",
   "name": "python",
   "nbconvert_exporter": "python",
   "pygments_lexer": "ipython3",
   "version": "3.10.6"
  }
 },
 "nbformat": 4,
 "nbformat_minor": 5
}
